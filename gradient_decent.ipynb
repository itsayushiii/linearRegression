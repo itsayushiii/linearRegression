{
  "nbformat": 4,
  "nbformat_minor": 0,
  "metadata": {
    "colab": {
      "provenance": [],
      "authorship_tag": "ABX9TyNgnyBY9dkixtxUsRuVhw59",
      "include_colab_link": true
    },
    "kernelspec": {
      "name": "python3",
      "display_name": "Python 3"
    },
    "language_info": {
      "name": "python"
    }
  },
  "cells": [
    {
      "cell_type": "markdown",
      "metadata": {
        "id": "view-in-github",
        "colab_type": "text"
      },
      "source": [
        "<a href=\"https://colab.research.google.com/github/itsayushiii/linearRegression/blob/main/gradient_decent.ipynb\" target=\"_parent\"><img src=\"https://colab.research.google.com/assets/colab-badge.svg\" alt=\"Open In Colab\"/></a>"
      ]
    },
    {
      "cell_type": "code",
      "execution_count": 1,
      "metadata": {
        "id": "10xa3oMthBJg"
      },
      "outputs": [],
      "source": [
        "import numpy as np"
      ]
    },
    {
      "cell_type": "code",
      "source": [
        "def gradient_decent(x,y):\n",
        "  m_curr  = b_curr = 0\n",
        "  iterations = 10000\n",
        "  n=len(x)\n",
        "  learning_rate = 0.001\n",
        "\n",
        "  for i in range(iterations):\n",
        "    y_predicted = m_curr * x + b_curr\n",
        "    cost = (1/n) * sum((val**2 for val in (y-y_predicted)))\n",
        "    md = -(2/n) *sum(x*(y-y_predicted))\n",
        "    bd = -(2/n)*sum(y-y_predicted)\n",
        "    m_curr = m_curr - learning_rate * md\n",
        "    b_curr = b_curr - learning_rate * bd\n",
        "    print(\"m {}, b {}, cost {}, iterations {}\".format(m_curr,b_curr,cost,i))"
      ],
      "metadata": {
        "id": "xbtOf_7Ghiok"
      },
      "execution_count": 2,
      "outputs": []
    },
    {
      "cell_type": "code",
      "source": [
        "x=np.array([1,2,3,4,5])\n",
        "y = np.array([5,7,9,11,13])\n",
        "gradient_decent(x,y)"
      ],
      "metadata": {
        "id": "lVDx6Gr9jPQ8"
      },
      "execution_count": null,
      "outputs": []
    }
  ]
}